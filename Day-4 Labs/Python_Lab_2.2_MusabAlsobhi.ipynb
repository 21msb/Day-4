{
 "cells": [
  {
   "cell_type": "markdown",
   "metadata": {
    "id": "E9Y5ss1ZYj3r"
   },
   "source": [
    "# Python_Lab_2.2\n"
   ]
  },
  {
   "cell_type": "markdown",
   "metadata": {
    "id": "Q1kAqc72Yj3t"
   },
   "source": [
    "### Task 1\n",
    "1. Write a program that prompts the user to enter two numbers and prints their division. Handle cases where the user enters non-numeric values or attempts to divide by zero using a try-except block.\n"
   ]
  },
  {
   "cell_type": "code",
   "execution_count": 4,
   "metadata": {
    "id": "H-xyoRTVYj3t"
   },
   "outputs": [
    {
     "name": "stdin",
     "output_type": "stream",
     "text": [
      "Number#1:  1\n",
      "Number#2:  5\n"
     ]
    },
    {
     "name": "stdout",
     "output_type": "stream",
     "text": [
      "Result: 0.2\n"
     ]
    }
   ],
   "source": [
    "try:\n",
    "    num1 = float(input(\"Number#1: \"))\n",
    "    num2 = float(input(\"Number#2: \"))        \n",
    "    result = num1 / num2        \n",
    "    print(\"Result:\", result)\n",
    "    \n",
    "except ValueError:\n",
    "    print(\"Error: Please enter valid numbers.\")\n",
    "    \n",
    "except ZeroDivisionError:\n",
    "    print(\"Error: Cannot divide by zero.\")\n",
    "\n"
   ]
  },
  {
   "cell_type": "markdown",
   "metadata": {
    "id": "CPWcDSC_Yj3u"
   },
   "source": [
    "### Task 2\n",
    "- Use \"Random\" library to do the following:\n",
    "    1. Create a list of random numbers using list comprehension.\n",
    "    2. Create a list of squares of the even numbers from random numbers using list comprehension.\n",
    "    3. Create a list of tuples (number, square) for random numbers using list comprehension."
   ]
  },
  {
   "cell_type": "code",
   "execution_count": 8,
   "metadata": {
    "id": "Yfq-i6CeYj3u"
   },
   "outputs": [
    {
     "name": "stdout",
     "output_type": "stream",
     "text": [
      "random numbers: [66, 36, 74, 80, 87, 94, 71, 55, 14, 57]\n",
      "squares [4356, 1296, 5476, 6400, 8836, 196]\n",
      "tuples: [(66, 4356), (36, 1296), (74, 5476), (80, 6400), (87, 7569), (94, 8836), (71, 5041), (55, 3025), (14, 196), (57, 3249)]\n"
     ]
    }
   ],
   "source": [
    "import random\n",
    "    \n",
    "randomN = [random.randint(1, 100) for i in range(10)]\n",
    "print(\"random numbers:\", randomN)\n",
    "    \n",
    "even = [x**2 for x in randomN if x % 2 == 0]\n",
    "print(\"squares\", even)\n",
    "\n",
    "tuple = [(x, x**2) for x in randomN]\n",
    "print(\"tuples:\", tuple)\n"
   ]
  },
  {
   "cell_type": "markdown",
   "metadata": {
    "id": "jYdOq46NYj3u"
   },
   "source": [
    "### Task 3\n",
    "- Create a dictionary where the keys are numbers from 1 to 5 and the values are list of their squares and cubes.\n",
    "\n",
    "  - **hint**: use dictionary of list comprehension.\n",
    "\n",
    "- Create a dictionary from two lists (one with keys and one with values) using dictionary comprehension.\n",
    "\n"
   ]
  },
  {
   "cell_type": "code",
   "execution_count": 16,
   "metadata": {
    "id": "IEnsiNmCYj3u"
   },
   "outputs": [
    {
     "name": "stdout",
     "output_type": "stream",
     "text": [
      "Dictionary of numbers with their squares and cubes: {1: [1, 1], 2: [4, 8], 3: [9, 27], 4: [16, 64], 5: [25, 125]}\n"
     ]
    }
   ],
   "source": [
    "\n",
    "numbers_dict = {x: [x**2, x**3] for x in range(1, 6)}\n",
    "print(\"Dictionary of numbers with their squares and cubes:\", numbers_dict)\n"
   ]
  },
  {
   "cell_type": "markdown",
   "metadata": {
    "id": "6T9TCQ8SYj3v"
   },
   "source": [
    "### Task 4\n",
    "- Given a dictionary where keys are student names and values are lists of their scores, write a function that updates the scores of students who have achieved a perfect score (100) by adding a bonus of 5 points to each score. Use dictionary comprehension to achieve this.\n",
    "\n",
    "    - Implement the function add_bonus_to_perfect_scores(student_scores) that adds a bonus of 5 points to each score of students who have achieved a perfect score (100)."
   ]
  },
  {
   "cell_type": "code",
   "execution_count": null,
   "metadata": {
    "id": "T3R_VsQpYj3v"
   },
   "outputs": [],
   "source": [
    "# Task 4\n",
    "# Given the list\n",
    "numbers = [5, 4, 17, 19, 30, 2, 7, 10, 45]\n",
    "\n",
    "# 1. Use a lambda function to filter out only the odd numbers\n",
    "odd_numbers = list(filter(lambda x: x % 2 != 0, numbers))\n",
    "\n",
    "# 2. Print the new list of odd numbers\n",
    "print(\"List of odd numbers:\", odd_numbers)"
   ]
  },
  {
   "cell_type": "markdown",
   "metadata": {
    "id": "rJkOEFAwYj3v"
   },
   "source": []
  }
 ],
 "metadata": {
  "colab": {
   "provenance": []
  },
  "kernelspec": {
   "display_name": "Python 3 (ipykernel)",
   "language": "python",
   "name": "python3"
  },
  "language_info": {
   "codemirror_mode": {
    "name": "ipython",
    "version": 3
   },
   "file_extension": ".py",
   "mimetype": "text/x-python",
   "name": "python",
   "nbconvert_exporter": "python",
   "pygments_lexer": "ipython3",
   "version": "3.12.4"
  }
 },
 "nbformat": 4,
 "nbformat_minor": 4
}
